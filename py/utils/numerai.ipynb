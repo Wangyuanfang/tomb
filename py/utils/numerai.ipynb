{
 "cells": [
  {
   "cell_type": "code",
   "execution_count": 3,
   "metadata": {
    "collapsed": false
   },
   "outputs": [],
   "source": [
    "import pandas as pd\n",
    "import scipy\n",
    "import sklearn\n",
    "%matplotlib inline\n",
    "import matplotlib.pyplot as plt\n",
    "import numpy as np\n",
    "import scipy.stats"
   ]
  },
  {
   "cell_type": "code",
   "execution_count": 2,
   "metadata": {
    "collapsed": true
   },
   "outputs": [],
   "source": [
    "df = pd.read_csv('numerai_training_data.csv')"
   ]
  },
  {
   "cell_type": "code",
   "execution_count": 5,
   "metadata": {
    "collapsed": false
   },
   "outputs": [
    {
     "data": {
      "text/html": [
       "<div>\n",
       "<table border=\"1\" class=\"dataframe\">\n",
       "  <thead>\n",
       "    <tr style=\"text-align: right;\">\n",
       "      <th></th>\n",
       "      <th>feature1</th>\n",
       "      <th>feature2</th>\n",
       "      <th>feature3</th>\n",
       "      <th>feature4</th>\n",
       "      <th>feature5</th>\n",
       "      <th>feature6</th>\n",
       "      <th>feature7</th>\n",
       "      <th>feature8</th>\n",
       "      <th>feature9</th>\n",
       "      <th>feature10</th>\n",
       "      <th>...</th>\n",
       "      <th>feature13</th>\n",
       "      <th>feature14</th>\n",
       "      <th>feature15</th>\n",
       "      <th>feature16</th>\n",
       "      <th>feature17</th>\n",
       "      <th>feature18</th>\n",
       "      <th>feature19</th>\n",
       "      <th>feature20</th>\n",
       "      <th>feature21</th>\n",
       "      <th>target</th>\n",
       "    </tr>\n",
       "  </thead>\n",
       "  <tbody>\n",
       "    <tr>\n",
       "      <th>count</th>\n",
       "      <td>96320.000000</td>\n",
       "      <td>96320.000000</td>\n",
       "      <td>96320.000000</td>\n",
       "      <td>96320.000000</td>\n",
       "      <td>96320.000000</td>\n",
       "      <td>96320.000000</td>\n",
       "      <td>96320.000000</td>\n",
       "      <td>96320.000000</td>\n",
       "      <td>96320.000000</td>\n",
       "      <td>96320.000000</td>\n",
       "      <td>...</td>\n",
       "      <td>96320.000000</td>\n",
       "      <td>96320.000000</td>\n",
       "      <td>96320.000000</td>\n",
       "      <td>96320.000000</td>\n",
       "      <td>96320.000000</td>\n",
       "      <td>96320.000000</td>\n",
       "      <td>96320.000000</td>\n",
       "      <td>96320.000000</td>\n",
       "      <td>96320.000000</td>\n",
       "      <td>96320.000000</td>\n",
       "    </tr>\n",
       "    <tr>\n",
       "      <th>mean</th>\n",
       "      <td>0.500878</td>\n",
       "      <td>0.512885</td>\n",
       "      <td>0.506545</td>\n",
       "      <td>0.481297</td>\n",
       "      <td>0.480721</td>\n",
       "      <td>0.507575</td>\n",
       "      <td>0.485784</td>\n",
       "      <td>0.488085</td>\n",
       "      <td>0.497232</td>\n",
       "      <td>0.509756</td>\n",
       "      <td>...</td>\n",
       "      <td>0.495812</td>\n",
       "      <td>0.487271</td>\n",
       "      <td>0.499383</td>\n",
       "      <td>0.499264</td>\n",
       "      <td>0.503023</td>\n",
       "      <td>0.489291</td>\n",
       "      <td>0.510676</td>\n",
       "      <td>0.496797</td>\n",
       "      <td>0.484802</td>\n",
       "      <td>0.505170</td>\n",
       "    </tr>\n",
       "    <tr>\n",
       "      <th>std</th>\n",
       "      <td>0.288139</td>\n",
       "      <td>0.287648</td>\n",
       "      <td>0.288900</td>\n",
       "      <td>0.289451</td>\n",
       "      <td>0.288815</td>\n",
       "      <td>0.290777</td>\n",
       "      <td>0.288760</td>\n",
       "      <td>0.285725</td>\n",
       "      <td>0.294387</td>\n",
       "      <td>0.290289</td>\n",
       "      <td>...</td>\n",
       "      <td>0.288942</td>\n",
       "      <td>0.292422</td>\n",
       "      <td>0.296308</td>\n",
       "      <td>0.287728</td>\n",
       "      <td>0.288853</td>\n",
       "      <td>0.288286</td>\n",
       "      <td>0.287050</td>\n",
       "      <td>0.279139</td>\n",
       "      <td>0.291899</td>\n",
       "      <td>0.499976</td>\n",
       "    </tr>\n",
       "    <tr>\n",
       "      <th>min</th>\n",
       "      <td>0.000000</td>\n",
       "      <td>0.000060</td>\n",
       "      <td>0.000000</td>\n",
       "      <td>0.000029</td>\n",
       "      <td>0.000056</td>\n",
       "      <td>0.000230</td>\n",
       "      <td>0.000000</td>\n",
       "      <td>0.000000</td>\n",
       "      <td>0.000067</td>\n",
       "      <td>0.000000</td>\n",
       "      <td>...</td>\n",
       "      <td>0.000002</td>\n",
       "      <td>0.000000</td>\n",
       "      <td>0.000000</td>\n",
       "      <td>0.000000</td>\n",
       "      <td>0.000000</td>\n",
       "      <td>0.000000</td>\n",
       "      <td>0.000000</td>\n",
       "      <td>0.000000</td>\n",
       "      <td>0.000207</td>\n",
       "      <td>0.000000</td>\n",
       "    </tr>\n",
       "    <tr>\n",
       "      <th>25%</th>\n",
       "      <td>0.251224</td>\n",
       "      <td>0.266438</td>\n",
       "      <td>0.254415</td>\n",
       "      <td>0.226809</td>\n",
       "      <td>0.222160</td>\n",
       "      <td>0.262825</td>\n",
       "      <td>0.239098</td>\n",
       "      <td>0.236121</td>\n",
       "      <td>0.237862</td>\n",
       "      <td>0.255412</td>\n",
       "      <td>...</td>\n",
       "      <td>0.233429</td>\n",
       "      <td>0.231386</td>\n",
       "      <td>0.243646</td>\n",
       "      <td>0.244975</td>\n",
       "      <td>0.259354</td>\n",
       "      <td>0.239981</td>\n",
       "      <td>0.263245</td>\n",
       "      <td>0.261287</td>\n",
       "      <td>0.223937</td>\n",
       "      <td>0.000000</td>\n",
       "    </tr>\n",
       "    <tr>\n",
       "      <th>50%</th>\n",
       "      <td>0.493747</td>\n",
       "      <td>0.518174</td>\n",
       "      <td>0.511365</td>\n",
       "      <td>0.469518</td>\n",
       "      <td>0.482973</td>\n",
       "      <td>0.502920</td>\n",
       "      <td>0.477959</td>\n",
       "      <td>0.493175</td>\n",
       "      <td>0.501310</td>\n",
       "      <td>0.512071</td>\n",
       "      <td>...</td>\n",
       "      <td>0.515181</td>\n",
       "      <td>0.464956</td>\n",
       "      <td>0.493341</td>\n",
       "      <td>0.511940</td>\n",
       "      <td>0.510200</td>\n",
       "      <td>0.481893</td>\n",
       "      <td>0.530513</td>\n",
       "      <td>0.487047</td>\n",
       "      <td>0.486590</td>\n",
       "      <td>1.000000</td>\n",
       "    </tr>\n",
       "    <tr>\n",
       "      <th>75%</th>\n",
       "      <td>0.746817</td>\n",
       "      <td>0.762671</td>\n",
       "      <td>0.760346</td>\n",
       "      <td>0.720406</td>\n",
       "      <td>0.723145</td>\n",
       "      <td>0.751586</td>\n",
       "      <td>0.734163</td>\n",
       "      <td>0.726348</td>\n",
       "      <td>0.763610</td>\n",
       "      <td>0.768322</td>\n",
       "      <td>...</td>\n",
       "      <td>0.735741</td>\n",
       "      <td>0.738742</td>\n",
       "      <td>0.764017</td>\n",
       "      <td>0.753246</td>\n",
       "      <td>0.749991</td>\n",
       "      <td>0.735929</td>\n",
       "      <td>0.753773</td>\n",
       "      <td>0.735611</td>\n",
       "      <td>0.718825</td>\n",
       "      <td>1.000000</td>\n",
       "    </tr>\n",
       "    <tr>\n",
       "      <th>max</th>\n",
       "      <td>1.000000</td>\n",
       "      <td>1.000000</td>\n",
       "      <td>1.000000</td>\n",
       "      <td>1.000000</td>\n",
       "      <td>1.000000</td>\n",
       "      <td>1.000000</td>\n",
       "      <td>1.000000</td>\n",
       "      <td>1.000000</td>\n",
       "      <td>1.000000</td>\n",
       "      <td>1.000000</td>\n",
       "      <td>...</td>\n",
       "      <td>1.000000</td>\n",
       "      <td>1.000000</td>\n",
       "      <td>1.000000</td>\n",
       "      <td>1.000000</td>\n",
       "      <td>1.000000</td>\n",
       "      <td>1.000000</td>\n",
       "      <td>1.000000</td>\n",
       "      <td>1.000000</td>\n",
       "      <td>1.000000</td>\n",
       "      <td>1.000000</td>\n",
       "    </tr>\n",
       "  </tbody>\n",
       "</table>\n",
       "<p>8 rows × 22 columns</p>\n",
       "</div>"
      ],
      "text/plain": [
       "           feature1      feature2      feature3      feature4      feature5  \\\n",
       "count  96320.000000  96320.000000  96320.000000  96320.000000  96320.000000   \n",
       "mean       0.500878      0.512885      0.506545      0.481297      0.480721   \n",
       "std        0.288139      0.287648      0.288900      0.289451      0.288815   \n",
       "min        0.000000      0.000060      0.000000      0.000029      0.000056   \n",
       "25%        0.251224      0.266438      0.254415      0.226809      0.222160   \n",
       "50%        0.493747      0.518174      0.511365      0.469518      0.482973   \n",
       "75%        0.746817      0.762671      0.760346      0.720406      0.723145   \n",
       "max        1.000000      1.000000      1.000000      1.000000      1.000000   \n",
       "\n",
       "           feature6      feature7      feature8      feature9     feature10  \\\n",
       "count  96320.000000  96320.000000  96320.000000  96320.000000  96320.000000   \n",
       "mean       0.507575      0.485784      0.488085      0.497232      0.509756   \n",
       "std        0.290777      0.288760      0.285725      0.294387      0.290289   \n",
       "min        0.000230      0.000000      0.000000      0.000067      0.000000   \n",
       "25%        0.262825      0.239098      0.236121      0.237862      0.255412   \n",
       "50%        0.502920      0.477959      0.493175      0.501310      0.512071   \n",
       "75%        0.751586      0.734163      0.726348      0.763610      0.768322   \n",
       "max        1.000000      1.000000      1.000000      1.000000      1.000000   \n",
       "\n",
       "           ...          feature13     feature14     feature15     feature16  \\\n",
       "count      ...       96320.000000  96320.000000  96320.000000  96320.000000   \n",
       "mean       ...           0.495812      0.487271      0.499383      0.499264   \n",
       "std        ...           0.288942      0.292422      0.296308      0.287728   \n",
       "min        ...           0.000002      0.000000      0.000000      0.000000   \n",
       "25%        ...           0.233429      0.231386      0.243646      0.244975   \n",
       "50%        ...           0.515181      0.464956      0.493341      0.511940   \n",
       "75%        ...           0.735741      0.738742      0.764017      0.753246   \n",
       "max        ...           1.000000      1.000000      1.000000      1.000000   \n",
       "\n",
       "          feature17     feature18     feature19     feature20     feature21  \\\n",
       "count  96320.000000  96320.000000  96320.000000  96320.000000  96320.000000   \n",
       "mean       0.503023      0.489291      0.510676      0.496797      0.484802   \n",
       "std        0.288853      0.288286      0.287050      0.279139      0.291899   \n",
       "min        0.000000      0.000000      0.000000      0.000000      0.000207   \n",
       "25%        0.259354      0.239981      0.263245      0.261287      0.223937   \n",
       "50%        0.510200      0.481893      0.530513      0.487047      0.486590   \n",
       "75%        0.749991      0.735929      0.753773      0.735611      0.718825   \n",
       "max        1.000000      1.000000      1.000000      1.000000      1.000000   \n",
       "\n",
       "             target  \n",
       "count  96320.000000  \n",
       "mean       0.505170  \n",
       "std        0.499976  \n",
       "min        0.000000  \n",
       "25%        0.000000  \n",
       "50%        1.000000  \n",
       "75%        1.000000  \n",
       "max        1.000000  \n",
       "\n",
       "[8 rows x 22 columns]"
      ]
     },
     "execution_count": 5,
     "metadata": {},
     "output_type": "execute_result"
    }
   ],
   "source": [
    "df.describe()"
   ]
  },
  {
   "cell_type": "code",
   "execution_count": 4,
   "metadata": {
    "collapsed": false
   },
   "outputs": [
    {
     "name": "stdout",
     "output_type": "stream",
     "text": [
      "f0 = feature1, f1 = feature2, pv = -0.297628632596\n",
      "f0 = feature1, f1 = feature3, pv = -0.283417346\n",
      "f0 = feature1, f1 = feature4, pv = 0.239346865491\n",
      "f0 = feature1, f1 = feature5, pv = 0.0239114538179\n",
      "f0 = feature1, f1 = feature6, pv = 0.0444582053853\n",
      "f0 = feature1, f1 = feature7, pv = -0.281173708628\n",
      "f0 = feature1, f1 = feature8, pv = 0.779425524414\n",
      "f0 = feature1, f1 = feature9, pv = 0.291935047314\n",
      "f0 = feature1, f1 = feature10, pv = 0.303143941241\n",
      "f0 = feature1, f1 = feature11, pv = 0.306409123507\n",
      "f0 = feature1, f1 = feature12, pv = -0.171042416336\n",
      "f0 = feature1, f1 = feature13, pv = 0.856791296553\n",
      "f0 = feature1, f1 = feature14, pv = 0.297029289651\n",
      "f0 = feature1, f1 = feature15, pv = 0.000323405076896\n",
      "f0 = feature1, f1 = feature16, pv = -0.190195735126\n",
      "f0 = feature1, f1 = feature17, pv = -0.346213785131\n",
      "f0 = feature1, f1 = feature18, pv = -0.141386772566\n",
      "f0 = feature1, f1 = feature19, pv = -0.286285025736\n",
      "f0 = feature1, f1 = feature20, pv = 0.340545635103\n",
      "f0 = feature1, f1 = feature21, pv = -0.351458042828\n",
      "f0 = feature2, f1 = feature3, pv = 0.134292936959\n",
      "f0 = feature2, f1 = feature4, pv = -0.306361452286\n",
      "f0 = feature2, f1 = feature5, pv = -0.0600854149565\n",
      "f0 = feature2, f1 = feature6, pv = -0.075561435106\n",
      "f0 = feature2, f1 = feature7, pv = 0.172989694401\n",
      "f0 = feature2, f1 = feature8, pv = -0.335521543228\n",
      "f0 = feature2, f1 = feature9, pv = -0.231332348608\n",
      "f0 = feature2, f1 = feature10, pv = -0.26733786752\n",
      "f0 = feature2, f1 = feature11, pv = -0.387027128732\n",
      "f0 = feature2, f1 = feature12, pv = 0.0633814577693\n",
      "f0 = feature2, f1 = feature13, pv = -0.264709759109\n",
      "f0 = feature2, f1 = feature14, pv = -0.548709463099\n",
      "f0 = feature2, f1 = feature15, pv = -0.0617765092597\n",
      "f0 = feature2, f1 = feature16, pv = 0.0718946081916\n",
      "f0 = feature2, f1 = feature17, pv = 0.167762549226\n",
      "f0 = feature2, f1 = feature18, pv = 0.07198994095\n",
      "f0 = feature2, f1 = feature19, pv = 0.525911065319\n",
      "f0 = feature2, f1 = feature20, pv = -0.490201265911\n",
      "f0 = feature2, f1 = feature21, pv = 0.695697557402\n",
      "f0 = feature3, f1 = feature4, pv = -0.137852580323\n",
      "f0 = feature3, f1 = feature5, pv = -0.117997739381\n",
      "f0 = feature3, f1 = feature6, pv = -0.129270212672\n",
      "f0 = feature3, f1 = feature7, pv = 0.69531413804\n",
      "f0 = feature3, f1 = feature8, pv = -0.235365511164\n",
      "f0 = feature3, f1 = feature9, pv = -0.169910289236\n",
      "f0 = feature3, f1 = feature10, pv = -0.153262425182\n",
      "f0 = feature3, f1 = feature11, pv = -0.167120958466\n",
      "f0 = feature3, f1 = feature12, pv = 0.429776048026\n",
      "f0 = feature3, f1 = feature13, pv = -0.306537845915\n",
      "f0 = feature3, f1 = feature14, pv = -0.131644852154\n",
      "f0 = feature3, f1 = feature15, pv = -0.0936827180436\n",
      "f0 = feature3, f1 = feature16, pv = 0.368085112055\n",
      "f0 = feature3, f1 = feature17, pv = 0.845989317745\n",
      "f0 = feature3, f1 = feature18, pv = 0.283820543025\n",
      "f0 = feature3, f1 = feature19, pv = 0.127986873972\n",
      "f0 = feature3, f1 = feature20, pv = -0.160947311296\n",
      "f0 = feature3, f1 = feature21, pv = 0.139821718552\n",
      "f0 = feature4, f1 = feature5, pv = 0.278355782289\n",
      "f0 = feature4, f1 = feature6, pv = 0.249325585988\n",
      "f0 = feature4, f1 = feature7, pv = -0.172857209391\n",
      "f0 = feature4, f1 = feature8, pv = 0.270082963\n",
      "f0 = feature4, f1 = feature9, pv = 0.656374605197\n",
      "f0 = feature4, f1 = feature10, pv = 0.752186345903\n",
      "f0 = feature4, f1 = feature11, pv = 0.383565468848\n",
      "f0 = feature4, f1 = feature12, pv = -0.0636915255271\n",
      "f0 = feature4, f1 = feature13, pv = 0.221890958546\n",
      "f0 = feature4, f1 = feature14, pv = 0.531604701347\n",
      "f0 = feature4, f1 = feature15, pv = 0.300455806145\n",
      "f0 = feature4, f1 = feature16, pv = -0.0743312524996\n",
      "f0 = feature4, f1 = feature17, pv = -0.170178661407\n",
      "f0 = feature4, f1 = feature18, pv = -0.0740539852043\n",
      "f0 = feature4, f1 = feature19, pv = -0.181055871495\n",
      "f0 = feature4, f1 = feature20, pv = 0.47196757422\n",
      "f0 = feature4, f1 = feature21, pv = -0.24521248741\n",
      "f0 = feature5, f1 = feature6, pv = 0.791321811722\n",
      "f0 = feature5, f1 = feature7, pv = -0.0947262999089\n",
      "f0 = feature5, f1 = feature8, pv = 0.00651292306982\n",
      "f0 = feature5, f1 = feature9, pv = 0.330251074787\n",
      "f0 = feature5, f1 = feature10, pv = 0.384292653895\n",
      "f0 = feature5, f1 = feature11, pv = 0.196779815023\n",
      "f0 = feature5, f1 = feature12, pv = -0.153245326951\n",
      "f0 = feature5, f1 = feature13, pv = 0.0237401718356\n",
      "f0 = feature5, f1 = feature14, pv = 0.141847143495\n",
      "f0 = feature5, f1 = feature15, pv = 0.806473471181\n",
      "f0 = feature5, f1 = feature16, pv = -0.155059084515\n",
      "f0 = feature5, f1 = feature17, pv = -0.124024760921\n",
      "f0 = feature5, f1 = feature18, pv = -0.11412055847\n",
      "f0 = feature5, f1 = feature19, pv = -0.137785177431\n",
      "f0 = feature5, f1 = feature20, pv = 0.210450723766\n",
      "f0 = feature5, f1 = feature21, pv = -0.142550652017\n",
      "f0 = feature6, f1 = feature7, pv = -0.0948772312948\n",
      "f0 = feature6, f1 = feature8, pv = 0.0286789883178\n",
      "f0 = feature6, f1 = feature9, pv = 0.386863780749\n",
      "f0 = feature6, f1 = feature10, pv = 0.325928964754\n",
      "f0 = feature6, f1 = feature11, pv = 0.232526681074\n",
      "f0 = feature6, f1 = feature12, pv = -0.178352186333\n",
      "f0 = feature6, f1 = feature13, pv = 0.0601698195085\n",
      "f0 = feature6, f1 = feature14, pv = 0.152552890666\n",
      "f0 = feature6, f1 = feature15, pv = 0.654528857802\n",
      "f0 = feature6, f1 = feature16, pv = -0.14159720079\n",
      "f0 = feature6, f1 = feature17, pv = -0.118432116985\n",
      "f0 = feature6, f1 = feature18, pv = -0.105311889841\n",
      "f0 = feature6, f1 = feature19, pv = -0.114370313978\n",
      "f0 = feature6, f1 = feature20, pv = 0.209159020225\n",
      "f0 = feature6, f1 = feature21, pv = -0.135736292358\n",
      "f0 = feature7, f1 = feature8, pv = -0.300986045657\n",
      "f0 = feature7, f1 = feature9, pv = -0.131659504174\n",
      "f0 = feature7, f1 = feature10, pv = -0.160006154128\n",
      "f0 = feature7, f1 = feature11, pv = -0.125687629524\n",
      "f0 = feature7, f1 = feature12, pv = 0.291304369788\n",
      "f0 = feature7, f1 = feature13, pv = -0.230884600338\n",
      "f0 = feature7, f1 = feature14, pv = -0.175477023637\n",
      "f0 = feature7, f1 = feature15, pv = -0.0978027133071\n",
      "f0 = feature7, f1 = feature16, pv = 0.326805813819\n",
      "f0 = feature7, f1 = feature17, pv = 0.811655482337\n",
      "f0 = feature7, f1 = feature18, pv = 0.343287337857\n",
      "f0 = feature7, f1 = feature19, pv = 0.0987163383793\n",
      "f0 = feature7, f1 = feature20, pv = -0.165749799674\n",
      "f0 = feature7, f1 = feature21, pv = 0.151758455533\n",
      "f0 = feature8, f1 = feature9, pv = 0.223621516887\n",
      "f0 = feature8, f1 = feature10, pv = 0.232495180555\n",
      "f0 = feature8, f1 = feature11, pv = 0.245225421133\n",
      "f0 = feature8, f1 = feature12, pv = -0.136514181052\n",
      "f0 = feature8, f1 = feature13, pv = 0.689501192748\n",
      "f0 = feature8, f1 = feature14, pv = 0.323382933083\n",
      "f0 = feature8, f1 = feature15, pv = 0.000834706026628\n",
      "f0 = feature8, f1 = feature16, pv = -0.151088547802\n",
      "f0 = feature8, f1 = feature17, pv = -0.28788088663\n",
      "f0 = feature8, f1 = feature18, pv = -0.150935452132\n",
      "f0 = feature8, f1 = feature19, pv = -0.210833111663\n",
      "f0 = feature8, f1 = feature20, pv = 0.295481320055\n",
      "f0 = feature8, f1 = feature21, pv = -0.28480057\n",
      "f0 = feature9, f1 = feature10, pv = 0.847384138949\n",
      "f0 = feature9, f1 = feature11, pv = 0.616897279189\n",
      "f0 = feature9, f1 = feature12, pv = -0.0937395333177\n",
      "f0 = feature9, f1 = feature13, pv = 0.314833565563\n",
      "f0 = feature9, f1 = feature14, pv = 0.410248354142\n",
      "f0 = feature9, f1 = feature15, pv = 0.250903419446\n",
      "f0 = feature9, f1 = feature16, pv = -0.079003695222\n",
      "f0 = feature9, f1 = feature17, pv = -0.161374040054\n",
      "f0 = feature9, f1 = feature18, pv = -0.0556160420823\n",
      "f0 = feature9, f1 = feature19, pv = -0.333905117973\n",
      "f0 = feature9, f1 = feature20, pv = 0.551721735002\n",
      "f0 = feature9, f1 = feature21, pv = -0.319710851428\n",
      "f0 = feature10, f1 = feature11, pv = 0.543009631236\n",
      "f0 = feature10, f1 = feature12, pv = -0.0823479379037\n",
      "f0 = feature10, f1 = feature13, pv = 0.252869353239\n",
      "f0 = feature10, f1 = feature14, pv = 0.466918694339\n",
      "f0 = feature10, f1 = feature15, pv = 0.280164106128\n",
      "f0 = feature10, f1 = feature16, pv = -0.096006863177\n",
      "f0 = feature10, f1 = feature17, pv = -0.196285039201\n",
      "f0 = feature10, f1 = feature18, pv = -0.0685517672307\n",
      "f0 = feature10, f1 = feature19, pv = -0.318870527165\n",
      "f0 = feature10, f1 = feature20, pv = 0.623675762472\n",
      "f0 = feature10, f1 = feature21, pv = -0.375293357898\n",
      "f0 = feature11, f1 = feature12, pv = -0.0916582401745\n",
      "f0 = feature11, f1 = feature13, pv = 0.308848312938\n",
      "f0 = feature11, f1 = feature14, pv = 0.626496476892\n",
      "f0 = feature11, f1 = feature15, pv = 0.130432906714\n",
      "f0 = feature11, f1 = feature16, pv = -0.0816343862836\n",
      "f0 = feature11, f1 = feature17, pv = -0.162146318794\n",
      "f0 = feature11, f1 = feature18, pv = -0.0574946250955\n",
      "f0 = feature11, f1 = feature19, pv = -0.539602627132\n",
      "f0 = feature11, f1 = feature20, pv = 0.807681070938\n",
      "f0 = feature11, f1 = feature21, pv = -0.494859517096\n",
      "f0 = feature12, f1 = feature13, pv = -0.183920864543\n",
      "f0 = feature12, f1 = feature14, pv = -0.0652152224878\n",
      "f0 = feature12, f1 = feature15, pv = -0.116731776286\n",
      "f0 = feature12, f1 = feature16, pv = 0.855027446711\n",
      "f0 = feature12, f1 = feature17, pv = 0.375039604942\n",
      "f0 = feature12, f1 = feature18, pv = 0.70454231755\n",
      "f0 = feature12, f1 = feature19, pv = 0.0579345651246\n",
      "f0 = feature12, f1 = feature20, pv = -0.0881559010303\n",
      "f0 = feature12, f1 = feature21, pv = 0.0688708374869\n",
      "f0 = feature13, f1 = feature14, pv = 0.263019776212\n",
      "f0 = feature13, f1 = feature15, pv = 0.0147485250067\n",
      "f0 = feature13, f1 = feature16, pv = -0.1586825098\n",
      "f0 = feature13, f1 = feature17, pv = -0.278156817709\n",
      "f0 = feature13, f1 = feature18, pv = -0.120567050548\n",
      "f0 = feature13, f1 = feature19, pv = -0.279086298256\n",
      "f0 = feature13, f1 = feature20, pv = 0.304447349007\n",
      "f0 = feature13, f1 = feature21, pv = -0.28955461424\n",
      "f0 = feature14, f1 = feature15, pv = 0.144775457376\n",
      "f0 = feature14, f1 = feature16, pv = -0.0742372033077\n",
      "f0 = feature14, f1 = feature17, pv = -0.165447563781\n",
      "f0 = feature14, f1 = feature18, pv = -0.0780329227679\n",
      "f0 = feature14, f1 = feature19, pv = -0.328862342534\n",
      "f0 = feature14, f1 = feature20, pv = 0.771343961908\n",
      "f0 = feature14, f1 = feature21, pv = -0.439642749837\n",
      "f0 = feature15, f1 = feature16, pv = -0.116512807607\n",
      "f0 = feature15, f1 = feature17, pv = -0.0919143996967\n",
      "f0 = feature15, f1 = feature18, pv = -0.122062733427\n",
      "f0 = feature15, f1 = feature19, pv = -0.0546147451347\n",
      "f0 = feature15, f1 = feature20, pv = 0.143779729052\n",
      "f0 = feature15, f1 = feature21, pv = -0.0573924434792\n",
      "f0 = feature16, f1 = feature17, pv = 0.418664135212\n",
      "f0 = feature16, f1 = feature18, pv = 0.814120192508\n",
      "f0 = feature16, f1 = feature19, pv = 0.0635485812234\n",
      "f0 = feature16, f1 = feature20, pv = -0.0961111190199\n",
      "f0 = feature16, f1 = feature21, pv = 0.0834341810346\n",
      "f0 = feature17, f1 = feature18, pv = 0.323965931882\n",
      "f0 = feature17, f1 = feature19, pv = 0.134462269281\n",
      "f0 = feature17, f1 = feature20, pv = -0.198626043089\n",
      "f0 = feature17, f1 = feature21, pv = 0.188064436276\n",
      "f0 = feature18, f1 = feature19, pv = 0.0439921966691\n",
      "f0 = feature18, f1 = feature20, pv = -0.0751324980743\n",
      "f0 = feature18, f1 = feature21, pv = 0.0649198551549\n",
      "f0 = feature19, f1 = feature20, pv = -0.456474096817\n",
      "f0 = feature19, f1 = feature21, pv = 0.792610859676\n",
      "f0 = feature20, f1 = feature21, pv = -0.596973217829\n"
     ]
    }
   ],
   "source": [
    "for i in range(1, 22):\n",
    "    for j in range(i + 1, 22):\n",
    "        f0 = 'feature%d' % i\n",
    "        f1 = 'feature%d' % j\n",
    "        print('f0 = {}, f1 = {}, pv = {}'.format(f0, f1, scipy.stats.pearsonr(df[f0], df[f1])[0]))\n",
    "        "
   ]
  },
  {
   "cell_type": "code",
   "execution_count": 5,
   "metadata": {
    "collapsed": false
   },
   "outputs": [
    {
     "name": "stderr",
     "output_type": "stream",
     "text": [
      "/usr/local/lib/python2.7/dist-packages/sklearn/cross_validation.py:44: DeprecationWarning: This module was deprecated in version 0.18 in favor of the model_selection module into which all the refactored classes and functions are moved. Also note that the interface of the new CV iterators are different from that of this module. This module will be removed in 0.20.\n",
      "  \"This module will be removed in 0.20.\", DeprecationWarning)\n"
     ]
    }
   ],
   "source": [
    "from sklearn.linear_model import RidgeClassifier, RidgeClassifierCV, LogisticRegressionCV\n",
    "from sklearn.svm import SVC\n",
    "from sklearn.ensemble import RandomForestClassifier\n",
    "from sklearn.cross_validation import train_test_split\n",
    "from sklearn.metrics import mean_squared_error, log_loss"
   ]
  },
  {
   "cell_type": "code",
   "execution_count": 6,
   "metadata": {
    "collapsed": false
   },
   "outputs": [],
   "source": [
    "X, y = df.drop('target', axis = 1), df['target']"
   ]
  },
  {
   "cell_type": "code",
   "execution_count": 7,
   "metadata": {
    "collapsed": true
   },
   "outputs": [],
   "source": [
    "X_train, X_test, y_train, y_test = train_test_split(X, y, test_size = 0.2)"
   ]
  },
  {
   "cell_type": "code",
   "execution_count": 79,
   "metadata": {
    "collapsed": false
   },
   "outputs": [
    {
     "data": {
      "text/plain": [
       "LogisticRegressionCV(Cs=10, class_weight=None, cv=None, dual=False,\n",
       "           fit_intercept=True, intercept_scaling=1.0, max_iter=100,\n",
       "           multi_class='ovr', n_jobs=1, penalty='l2', random_state=None,\n",
       "           refit=True, scoring=None, solver='lbfgs', tol=0.0001, verbose=0)"
      ]
     },
     "execution_count": 79,
     "metadata": {},
     "output_type": "execute_result"
    }
   ],
   "source": [
    "clf = LogisticRegressionCV()\n",
    "clf.fit(X_train, y_train)"
   ]
  },
  {
   "cell_type": "code",
   "execution_count": 89,
   "metadata": {
    "collapsed": false
   },
   "outputs": [],
   "source": [
    "y_pred = clf.predict(X_test)"
   ]
  },
  {
   "cell_type": "code",
   "execution_count": 140,
   "metadata": {
    "collapsed": false
   },
   "outputs": [
    {
     "data": {
      "text/plain": [
       "16.382086070099035"
      ]
     },
     "execution_count": 140,
     "metadata": {},
     "output_type": "execute_result"
    }
   ],
   "source": [
    "log_loss(y_pred, y_test)"
   ]
  },
  {
   "cell_type": "code",
   "execution_count": 74,
   "metadata": {
    "collapsed": false
   },
   "outputs": [
    {
     "name": "stdout",
     "output_type": "stream",
     "text": [
      "0.509045369601\n"
     ]
    }
   ],
   "source": [
    "clf = RandomForestClassifier(n_estimators=100, min_samples_leaf=3, oob_score=True)\n",
    "clf.fit(X_train, y_train)\n",
    "print clf.oob_score_"
   ]
  },
  {
   "cell_type": "code",
   "execution_count": 88,
   "metadata": {
    "collapsed": false
   },
   "outputs": [
    {
     "data": {
      "text/plain": [
       "SVC(C=1.0, cache_size=1200, class_weight=None, coef0=0.0,\n",
       "  decision_function_shape=None, degree=3, gamma='auto', kernel='rbf',\n",
       "  max_iter=-1, probability=False, random_state=None, shrinking=True,\n",
       "  tol=0.001, verbose=False)"
      ]
     },
     "execution_count": 88,
     "metadata": {},
     "output_type": "execute_result"
    }
   ],
   "source": [
    "clf = SVC(cache_size = 1200)\n",
    "clf.fit(X_train, y_train)"
   ]
  },
  {
   "cell_type": "code",
   "execution_count": 107,
   "metadata": {
    "collapsed": false
   },
   "outputs": [],
   "source": [
    "from keras.models import Sequential\n",
    "from keras.layers import Dense, Activation, Dropout\n",
    "from IPython.display import SVG\n",
    "from keras.utils.visualize_util import model_to_dot"
   ]
  },
  {
   "cell_type": "code",
   "execution_count": 166,
   "metadata": {
    "collapsed": false
   },
   "outputs": [],
   "source": [
    "model = Sequential()\n",
    "model.add(Dense(output_dim=64, input_dim=21, activation='relu'))\n",
    "model.add(Dense(output_dim=1, activation= 'relu'))\n",
    "model.compile(optimizer='rmsprop',\n",
    "              loss='binary_crossentropy',\n",
    "              metrics=['accuracy'])"
   ]
  },
  {
   "cell_type": "code",
   "execution_count": 161,
   "metadata": {
    "collapsed": false
   },
   "outputs": [
    {
     "data": {
      "image/svg+xml": [
       "<svg height=\"268pt\" viewBox=\"0.00 0.00 174.00 268.00\" width=\"174pt\" xmlns=\"http://www.w3.org/2000/svg\" xmlns:xlink=\"http://www.w3.org/1999/xlink\">\n",
       "<g class=\"graph\" id=\"graph0\" transform=\"scale(1 1) rotate(0) translate(4 264)\">\n",
       "<title>G</title>\n",
       "<polygon fill=\"white\" points=\"-4,4 -4,-264 170,-264 170,4 -4,4\" stroke=\"none\"/>\n",
       "<!-- 139740026050448 -->\n",
       "<g class=\"node\" id=\"node1\"><title>139740026050448</title>\n",
       "<polygon fill=\"none\" points=\"-1,-223 -1,-259 167,-259 167,-223 -1,-223\" stroke=\"black\"/>\n",
       "<text font-family=\"Times,serif\" font-size=\"14.00\" text-anchor=\"middle\" x=\"83\" y=\"-237.3\">dense_input_4 (InputLayer)</text>\n",
       "</g>\n",
       "<!-- 139740026011408 -->\n",
       "<g class=\"node\" id=\"node2\"><title>139740026011408</title>\n",
       "<polygon fill=\"none\" points=\"29.5,-149 29.5,-185 136.5,-185 136.5,-149 29.5,-149\" stroke=\"black\"/>\n",
       "<text font-family=\"Times,serif\" font-size=\"14.00\" text-anchor=\"middle\" x=\"83\" y=\"-163.3\">dense_7 (Dense)</text>\n",
       "</g>\n",
       "<!-- 139740026050448&#45;&gt;139740026011408 -->\n",
       "<g class=\"edge\" id=\"edge1\"><title>139740026050448-&gt;139740026011408</title>\n",
       "<path d=\"M83,-222.937C83,-214.807 83,-204.876 83,-195.705\" fill=\"none\" stroke=\"black\"/>\n",
       "<polygon fill=\"black\" points=\"86.5001,-195.441 83,-185.441 79.5001,-195.441 86.5001,-195.441\" stroke=\"black\"/>\n",
       "</g>\n",
       "<!-- 139740026007632 -->\n",
       "<g class=\"node\" id=\"node3\"><title>139740026007632</title>\n",
       "<polygon fill=\"none\" points=\"18,-75 18,-111 148,-111 148,-75 18,-75\" stroke=\"black\"/>\n",
       "<text font-family=\"Times,serif\" font-size=\"14.00\" text-anchor=\"middle\" x=\"83\" y=\"-89.3\">dropout_4 (Dropout)</text>\n",
       "</g>\n",
       "<!-- 139740026011408&#45;&gt;139740026007632 -->\n",
       "<g class=\"edge\" id=\"edge2\"><title>139740026011408-&gt;139740026007632</title>\n",
       "<path d=\"M83,-148.937C83,-140.807 83,-130.876 83,-121.705\" fill=\"none\" stroke=\"black\"/>\n",
       "<polygon fill=\"black\" points=\"86.5001,-121.441 83,-111.441 79.5001,-121.441 86.5001,-121.441\" stroke=\"black\"/>\n",
       "</g>\n",
       "<!-- 139740025572240 -->\n",
       "<g class=\"node\" id=\"node4\"><title>139740025572240</title>\n",
       "<polygon fill=\"none\" points=\"29.5,-1 29.5,-37 136.5,-37 136.5,-1 29.5,-1\" stroke=\"black\"/>\n",
       "<text font-family=\"Times,serif\" font-size=\"14.00\" text-anchor=\"middle\" x=\"83\" y=\"-15.3\">dense_8 (Dense)</text>\n",
       "</g>\n",
       "<!-- 139740026007632&#45;&gt;139740025572240 -->\n",
       "<g class=\"edge\" id=\"edge3\"><title>139740026007632-&gt;139740025572240</title>\n",
       "<path d=\"M83,-74.937C83,-66.8072 83,-56.8761 83,-47.7047\" fill=\"none\" stroke=\"black\"/>\n",
       "<polygon fill=\"black\" points=\"86.5001,-47.4406 83,-37.4407 79.5001,-47.4407 86.5001,-47.4406\" stroke=\"black\"/>\n",
       "</g>\n",
       "</g>\n",
       "</svg>"
      ],
      "text/plain": [
       "<IPython.core.display.SVG object>"
      ]
     },
     "execution_count": 161,
     "metadata": {},
     "output_type": "execute_result"
    }
   ],
   "source": [
    "SVG(model_to_dot(model).create(prog='dot', format='svg'))"
   ]
  },
  {
   "cell_type": "code",
   "execution_count": 168,
   "metadata": {
    "collapsed": false
   },
   "outputs": [
    {
     "name": "stdout",
     "output_type": "stream",
     "text": [
      "Epoch 1/50\n",
      "77056/77056 [==============================] - 0s - loss: 0.7347 - acc: 0.5162     \n",
      "Epoch 2/50\n",
      "77056/77056 [==============================] - 0s - loss: 0.7294 - acc: 0.5165     \n",
      "Epoch 3/50\n",
      "77056/77056 [==============================] - 0s - loss: 0.7317 - acc: 0.5179     \n",
      "Epoch 4/50\n",
      "77056/77056 [==============================] - 0s - loss: 0.7294 - acc: 0.5198     \n",
      "Epoch 5/50\n",
      "77056/77056 [==============================] - 0s - loss: 0.7344 - acc: 0.5187     \n",
      "Epoch 6/50\n",
      "77056/77056 [==============================] - 0s - loss: 0.7311 - acc: 0.5198     \n",
      "Epoch 7/50\n",
      "77056/77056 [==============================] - 0s - loss: 0.7279 - acc: 0.5178     \n",
      "Epoch 8/50\n",
      "77056/77056 [==============================] - 0s - loss: 0.7276 - acc: 0.5188     \n",
      "Epoch 9/50\n",
      "77056/77056 [==============================] - 0s - loss: 0.7402 - acc: 0.5201     \n",
      "Epoch 10/50\n",
      "77056/77056 [==============================] - 0s - loss: 0.7362 - acc: 0.5191     \n",
      "Epoch 11/50\n",
      "77056/77056 [==============================] - 0s - loss: 0.7376 - acc: 0.5185     \n",
      "Epoch 12/50\n",
      "77056/77056 [==============================] - 0s - loss: 0.7298 - acc: 0.5185     \n",
      "Epoch 13/50\n",
      "77056/77056 [==============================] - 0s - loss: 0.7278 - acc: 0.5190     \n",
      "Epoch 14/50\n",
      "77056/77056 [==============================] - 0s - loss: 0.7311 - acc: 0.5183     \n",
      "Epoch 15/50\n",
      "77056/77056 [==============================] - 0s - loss: 0.7392 - acc: 0.5185     \n",
      "Epoch 16/50\n",
      "77056/77056 [==============================] - 0s - loss: 0.7369 - acc: 0.5184     \n",
      "Epoch 17/50\n",
      "77056/77056 [==============================] - 0s - loss: 0.7337 - acc: 0.5191     \n",
      "Epoch 18/50\n",
      "77056/77056 [==============================] - 0s - loss: 0.7252 - acc: 0.5207     \n",
      "Epoch 19/50\n",
      "77056/77056 [==============================] - 1s - loss: 0.7253 - acc: 0.5204     \n",
      "Epoch 20/50\n",
      "27900/77056 [=========>....................] - ETA: 0s - loss: 0.7303 - acc: 0.5232"
     ]
    },
    {
     "ename": "KeyboardInterrupt",
     "evalue": "",
     "output_type": "error",
     "traceback": [
      "\u001b[0;31m---------------------------------------------------------------------------\u001b[0m",
      "\u001b[0;31mKeyboardInterrupt\u001b[0m                         Traceback (most recent call last)",
      "\u001b[0;32m<ipython-input-168-65e1f5e3c45b>\u001b[0m in \u001b[0;36m<module>\u001b[0;34m()\u001b[0m\n\u001b[0;32m----> 1\u001b[0;31m \u001b[0mmodel\u001b[0m\u001b[0;34m.\u001b[0m\u001b[0mfit\u001b[0m\u001b[0;34m(\u001b[0m\u001b[0mX_train\u001b[0m\u001b[0;34m.\u001b[0m\u001b[0mvalues\u001b[0m\u001b[0;34m,\u001b[0m \u001b[0my_train\u001b[0m\u001b[0;34m.\u001b[0m\u001b[0mvalues\u001b[0m\u001b[0;34m,\u001b[0m \u001b[0mnb_epoch\u001b[0m\u001b[0;34m=\u001b[0m\u001b[0;36m50\u001b[0m\u001b[0;34m,\u001b[0m \u001b[0mbatch_size\u001b[0m \u001b[0;34m=\u001b[0m \u001b[0;36m100\u001b[0m\u001b[0;34m,\u001b[0m \u001b[0mverbose\u001b[0m \u001b[0;34m=\u001b[0m \u001b[0;36m1\u001b[0m\u001b[0;34m)\u001b[0m\u001b[0;34m\u001b[0m\u001b[0m\n\u001b[0m",
      "\u001b[0;32m/usr/local/lib/python2.7/dist-packages/keras/models.pyc\u001b[0m in \u001b[0;36mfit\u001b[0;34m(self, x, y, batch_size, nb_epoch, verbose, callbacks, validation_split, validation_data, shuffle, class_weight, sample_weight, **kwargs)\u001b[0m\n\u001b[1;32m    618\u001b[0m                               \u001b[0mshuffle\u001b[0m\u001b[0;34m=\u001b[0m\u001b[0mshuffle\u001b[0m\u001b[0;34m,\u001b[0m\u001b[0;34m\u001b[0m\u001b[0m\n\u001b[1;32m    619\u001b[0m                               \u001b[0mclass_weight\u001b[0m\u001b[0;34m=\u001b[0m\u001b[0mclass_weight\u001b[0m\u001b[0;34m,\u001b[0m\u001b[0;34m\u001b[0m\u001b[0m\n\u001b[0;32m--> 620\u001b[0;31m                               sample_weight=sample_weight)\n\u001b[0m\u001b[1;32m    621\u001b[0m \u001b[0;34m\u001b[0m\u001b[0m\n\u001b[1;32m    622\u001b[0m     def evaluate(self, x, y, batch_size=32, verbose=1,\n",
      "\u001b[0;32m/usr/local/lib/python2.7/dist-packages/keras/engine/training.pyc\u001b[0m in \u001b[0;36mfit\u001b[0;34m(self, x, y, batch_size, nb_epoch, verbose, callbacks, validation_split, validation_data, shuffle, class_weight, sample_weight)\u001b[0m\n\u001b[1;32m   1104\u001b[0m                               \u001b[0mverbose\u001b[0m\u001b[0;34m=\u001b[0m\u001b[0mverbose\u001b[0m\u001b[0;34m,\u001b[0m \u001b[0mcallbacks\u001b[0m\u001b[0;34m=\u001b[0m\u001b[0mcallbacks\u001b[0m\u001b[0;34m,\u001b[0m\u001b[0;34m\u001b[0m\u001b[0m\n\u001b[1;32m   1105\u001b[0m                               \u001b[0mval_f\u001b[0m\u001b[0;34m=\u001b[0m\u001b[0mval_f\u001b[0m\u001b[0;34m,\u001b[0m \u001b[0mval_ins\u001b[0m\u001b[0;34m=\u001b[0m\u001b[0mval_ins\u001b[0m\u001b[0;34m,\u001b[0m \u001b[0mshuffle\u001b[0m\u001b[0;34m=\u001b[0m\u001b[0mshuffle\u001b[0m\u001b[0;34m,\u001b[0m\u001b[0;34m\u001b[0m\u001b[0m\n\u001b[0;32m-> 1106\u001b[0;31m                               callback_metrics=callback_metrics)\n\u001b[0m\u001b[1;32m   1107\u001b[0m \u001b[0;34m\u001b[0m\u001b[0m\n\u001b[1;32m   1108\u001b[0m     \u001b[0;32mdef\u001b[0m \u001b[0mevaluate\u001b[0m\u001b[0;34m(\u001b[0m\u001b[0mself\u001b[0m\u001b[0;34m,\u001b[0m \u001b[0mx\u001b[0m\u001b[0;34m,\u001b[0m \u001b[0my\u001b[0m\u001b[0;34m,\u001b[0m \u001b[0mbatch_size\u001b[0m\u001b[0;34m=\u001b[0m\u001b[0;36m32\u001b[0m\u001b[0;34m,\u001b[0m \u001b[0mverbose\u001b[0m\u001b[0;34m=\u001b[0m\u001b[0;36m1\u001b[0m\u001b[0;34m,\u001b[0m \u001b[0msample_weight\u001b[0m\u001b[0;34m=\u001b[0m\u001b[0mNone\u001b[0m\u001b[0;34m)\u001b[0m\u001b[0;34m:\u001b[0m\u001b[0;34m\u001b[0m\u001b[0m\n",
      "\u001b[0;32m/usr/local/lib/python2.7/dist-packages/keras/engine/training.pyc\u001b[0m in \u001b[0;36m_fit_loop\u001b[0;34m(self, f, ins, out_labels, batch_size, nb_epoch, verbose, callbacks, val_f, val_ins, shuffle, callback_metrics)\u001b[0m\n\u001b[1;32m    822\u001b[0m                 \u001b[0mbatch_logs\u001b[0m\u001b[0;34m[\u001b[0m\u001b[0;34m'size'\u001b[0m\u001b[0;34m]\u001b[0m \u001b[0;34m=\u001b[0m \u001b[0mlen\u001b[0m\u001b[0;34m(\u001b[0m\u001b[0mbatch_ids\u001b[0m\u001b[0;34m)\u001b[0m\u001b[0;34m\u001b[0m\u001b[0m\n\u001b[1;32m    823\u001b[0m                 \u001b[0mcallbacks\u001b[0m\u001b[0;34m.\u001b[0m\u001b[0mon_batch_begin\u001b[0m\u001b[0;34m(\u001b[0m\u001b[0mbatch_index\u001b[0m\u001b[0;34m,\u001b[0m \u001b[0mbatch_logs\u001b[0m\u001b[0;34m)\u001b[0m\u001b[0;34m\u001b[0m\u001b[0m\n\u001b[0;32m--> 824\u001b[0;31m                 \u001b[0mouts\u001b[0m \u001b[0;34m=\u001b[0m \u001b[0mf\u001b[0m\u001b[0;34m(\u001b[0m\u001b[0mins_batch\u001b[0m\u001b[0;34m)\u001b[0m\u001b[0;34m\u001b[0m\u001b[0m\n\u001b[0m\u001b[1;32m    825\u001b[0m                 \u001b[0;32mif\u001b[0m \u001b[0mtype\u001b[0m\u001b[0;34m(\u001b[0m\u001b[0mouts\u001b[0m\u001b[0;34m)\u001b[0m \u001b[0;34m!=\u001b[0m \u001b[0mlist\u001b[0m\u001b[0;34m:\u001b[0m\u001b[0;34m\u001b[0m\u001b[0m\n\u001b[1;32m    826\u001b[0m                     \u001b[0mouts\u001b[0m \u001b[0;34m=\u001b[0m \u001b[0;34m[\u001b[0m\u001b[0mouts\u001b[0m\u001b[0;34m]\u001b[0m\u001b[0;34m\u001b[0m\u001b[0m\n",
      "\u001b[0;32m/usr/local/lib/python2.7/dist-packages/keras/backend/theano_backend.pyc\u001b[0m in \u001b[0;36m__call__\u001b[0;34m(self, inputs)\u001b[0m\n\u001b[1;32m    715\u001b[0m     \u001b[0;32mdef\u001b[0m \u001b[0m__call__\u001b[0m\u001b[0;34m(\u001b[0m\u001b[0mself\u001b[0m\u001b[0;34m,\u001b[0m \u001b[0minputs\u001b[0m\u001b[0;34m)\u001b[0m\u001b[0;34m:\u001b[0m\u001b[0;34m\u001b[0m\u001b[0m\n\u001b[1;32m    716\u001b[0m         \u001b[0;32massert\u001b[0m \u001b[0mtype\u001b[0m\u001b[0;34m(\u001b[0m\u001b[0minputs\u001b[0m\u001b[0;34m)\u001b[0m \u001b[0;32min\u001b[0m \u001b[0;34m{\u001b[0m\u001b[0mlist\u001b[0m\u001b[0;34m,\u001b[0m \u001b[0mtuple\u001b[0m\u001b[0;34m}\u001b[0m\u001b[0;34m\u001b[0m\u001b[0m\n\u001b[0;32m--> 717\u001b[0;31m         \u001b[0;32mreturn\u001b[0m \u001b[0mself\u001b[0m\u001b[0;34m.\u001b[0m\u001b[0mfunction\u001b[0m\u001b[0;34m(\u001b[0m\u001b[0;34m*\u001b[0m\u001b[0minputs\u001b[0m\u001b[0;34m)\u001b[0m\u001b[0;34m\u001b[0m\u001b[0m\n\u001b[0m\u001b[1;32m    718\u001b[0m \u001b[0;34m\u001b[0m\u001b[0m\n\u001b[1;32m    719\u001b[0m \u001b[0;34m\u001b[0m\u001b[0m\n",
      "\u001b[0;32m/usr/local/lib/python2.7/dist-packages/theano/compile/function_module.pyc\u001b[0m in \u001b[0;36m__call__\u001b[0;34m(self, *args, **kwargs)\u001b[0m\n\u001b[1;32m    857\u001b[0m         \u001b[0mt0_fn\u001b[0m \u001b[0;34m=\u001b[0m \u001b[0mtime\u001b[0m\u001b[0;34m.\u001b[0m\u001b[0mtime\u001b[0m\u001b[0;34m(\u001b[0m\u001b[0;34m)\u001b[0m\u001b[0;34m\u001b[0m\u001b[0m\n\u001b[1;32m    858\u001b[0m         \u001b[0;32mtry\u001b[0m\u001b[0;34m:\u001b[0m\u001b[0;34m\u001b[0m\u001b[0m\n\u001b[0;32m--> 859\u001b[0;31m             \u001b[0moutputs\u001b[0m \u001b[0;34m=\u001b[0m \u001b[0mself\u001b[0m\u001b[0;34m.\u001b[0m\u001b[0mfn\u001b[0m\u001b[0;34m(\u001b[0m\u001b[0;34m)\u001b[0m\u001b[0;34m\u001b[0m\u001b[0m\n\u001b[0m\u001b[1;32m    860\u001b[0m         \u001b[0;32mexcept\u001b[0m \u001b[0mException\u001b[0m\u001b[0;34m:\u001b[0m\u001b[0;34m\u001b[0m\u001b[0m\n\u001b[1;32m    861\u001b[0m             \u001b[0;32mif\u001b[0m \u001b[0mhasattr\u001b[0m\u001b[0;34m(\u001b[0m\u001b[0mself\u001b[0m\u001b[0;34m.\u001b[0m\u001b[0mfn\u001b[0m\u001b[0;34m,\u001b[0m \u001b[0;34m'position_of_error'\u001b[0m\u001b[0;34m)\u001b[0m\u001b[0;34m:\u001b[0m\u001b[0;34m\u001b[0m\u001b[0m\n",
      "\u001b[0;31mKeyboardInterrupt\u001b[0m: "
     ]
    }
   ],
   "source": [
    "model.fit(X_train.values, y_train.values, nb_epoch=50, batch_size = 100, verbose = 1)"
   ]
  },
  {
   "cell_type": "code",
   "execution_count": 163,
   "metadata": {
    "collapsed": false
   },
   "outputs": [
    {
     "name": "stdout",
     "output_type": "stream",
     "text": [
      "                  0\n",
      "count  19264.000000\n",
      "mean       0.511443\n",
      "std        0.022988\n",
      "min        0.315090\n",
      "25%        0.501495\n",
      "50%        0.510408\n",
      "75%        0.523206\n",
      "max        0.627154\n",
      "median =  0.510407805443\n"
     ]
    }
   ],
   "source": [
    "y_pred = model.predict(X_test.values)\n",
    "y_pred = y_pred.reshape(-1)\n",
    "y_pred_df = pd.DataFrame(y_pred)\n",
    "print y_pred_df.describe()\n",
    "print 'median = ', y_pred_df.median()[0]\n",
    "y_pred[y_pred > y_pred_df.median()[0]] = 1\n",
    "y_pred[y_pred <= y_pred_df.median()[0]] = 0"
   ]
  },
  {
   "cell_type": "code",
   "execution_count": 164,
   "metadata": {
    "collapsed": false
   },
   "outputs": [
    {
     "data": {
      "text/plain": [
       "16.500420041692649"
      ]
     },
     "execution_count": 164,
     "metadata": {},
     "output_type": "execute_result"
    }
   ],
   "source": [
    "log_loss(y_pred, y_test)"
   ]
  },
  {
   "cell_type": "code",
   "execution_count": 8,
   "metadata": {
    "collapsed": false
   },
   "outputs": [],
   "source": [
    "import xgboost as xgb"
   ]
  },
  {
   "cell_type": "code",
   "execution_count": 17,
   "metadata": {
    "collapsed": false
   },
   "outputs": [],
   "source": [
    "train_data = xgb.DMatrix(X_train.values, label = y_train.values)\n",
    "test_data = xgb.DMatrix(X_test.values)"
   ]
  },
  {
   "cell_type": "code",
   "execution_count": 37,
   "metadata": {
    "collapsed": false
   },
   "outputs": [],
   "source": [
    "bst = xgb.train({'max_depth':5, 'eta':1, 'silent':1, 'objective':'binary:logistic' }, train_data, 50)"
   ]
  },
  {
   "cell_type": "code",
   "execution_count": 38,
   "metadata": {
    "collapsed": false
   },
   "outputs": [
    {
     "name": "stdout",
     "output_type": "stream",
     "text": [
      "                  0\n",
      "count  19264.000000\n",
      "mean       0.504394\n",
      "std        0.150528\n",
      "min        0.002778\n",
      "25%        0.419897\n",
      "50%        0.508869\n",
      "75%        0.588558\n",
      "max        0.996284\n",
      "median =  0.508869051933\n"
     ]
    }
   ],
   "source": [
    "y_pred = bst.predict(test_data)\n",
    "y_pred_df = pd.DataFrame(y_pred)\n",
    "print y_pred_df.describe()\n",
    "print 'median = ', y_pred_df.median()[0]\n",
    "y_pred[y_pred > y_pred_df.median()[0]] = 1\n",
    "y_pred[y_pred <= y_pred_df.median()[0]] = 0"
   ]
  },
  {
   "cell_type": "code",
   "execution_count": 39,
   "metadata": {
    "collapsed": false
   },
   "outputs": [
    {
     "data": {
      "text/plain": [
       "17.06340324981014"
      ]
     },
     "execution_count": 39,
     "metadata": {},
     "output_type": "execute_result"
    }
   ],
   "source": [
    "log_loss(y_pred, y_test)"
   ]
  }
 ],
 "metadata": {
  "kernelspec": {
   "display_name": "Python 2",
   "language": "python",
   "name": "python2"
  },
  "language_info": {
   "codemirror_mode": {
    "name": "ipython",
    "version": 2
   },
   "file_extension": ".py",
   "mimetype": "text/x-python",
   "name": "python",
   "nbconvert_exporter": "python",
   "pygments_lexer": "ipython2",
   "version": "2.7.6"
  }
 },
 "nbformat": 4,
 "nbformat_minor": 1
}
