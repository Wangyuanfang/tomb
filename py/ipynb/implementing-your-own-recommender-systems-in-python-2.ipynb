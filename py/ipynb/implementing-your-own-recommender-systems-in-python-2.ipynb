{
 "cells": [
  {
   "cell_type": "markdown",
   "metadata": {},
   "source": [
    "文章在这个地方 http://online.cambridgecoding.com/notebooks/eWReNYcAfB/implementing-your-own-recommender-systems-in-python-2"
   ]
  },
  {
   "cell_type": "code",
   "execution_count": 1,
   "metadata": {
    "collapsed": true
   },
   "outputs": [],
   "source": [
    "import numpy as np\n",
    "import pandas as pd"
   ]
  },
  {
   "cell_type": "code",
   "execution_count": 2,
   "metadata": {
    "collapsed": false
   },
   "outputs": [],
   "source": [
    "header = ['user_id', 'item_id', 'rating', 'timestamp']\n",
    "df = pd.read_csv('~/Downloads/ml-100k/u.data', sep='\\t', names=header)"
   ]
  },
  {
   "cell_type": "code",
   "execution_count": 3,
   "metadata": {
    "collapsed": false
   },
   "outputs": [
    {
     "name": "stdout",
     "output_type": "stream",
     "text": [
      "users = 943, items = 1682\n"
     ]
    }
   ],
   "source": [
    "n_users = df.user_id.unique().size\n",
    "n_items = df.item_id.unique().size\n",
    "print 'users = {}, items = {}'.format(n_users, n_items)"
   ]
  },
  {
   "cell_type": "code",
   "execution_count": 4,
   "metadata": {
    "collapsed": true
   },
   "outputs": [],
   "source": [
    "from sklearn import cross_validation as cv\n",
    "train_data, test_data = cv.train_test_split(df, test_size=0.25)"
   ]
  },
  {
   "cell_type": "code",
   "execution_count": 5,
   "metadata": {
    "collapsed": true
   },
   "outputs": [],
   "source": [
    "train_mx = np.zeros((n_users, n_items))\n",
    "test_mx = np.zeros((n_users, n_items))"
   ]
  },
  {
   "cell_type": "code",
   "execution_count": 6,
   "metadata": {
    "collapsed": false
   },
   "outputs": [],
   "source": [
    "# iterrows可以用来遍历df\n",
    "for idx, row in train_data.iterrows():\n",
    "    train_mx[row['user_id']-1][row['item_id'] -1] = row['rating']\n",
    "for idx, row in test_data.iterrows():\n",
    "    test_mx[row['user_id']-1][row['item_id'] -1] = row['rating']"
   ]
  },
  {
   "cell_type": "code",
   "execution_count": 7,
   "metadata": {
    "collapsed": true
   },
   "outputs": [],
   "source": [
    "from sklearn.metrics.pairwise import pairwise_distances"
   ]
  },
  {
   "cell_type": "code",
   "execution_count": 8,
   "metadata": {
    "collapsed": false
   },
   "outputs": [],
   "source": [
    "# 这个地方比较奇怪，是因为如果使用pairwise_distances输入两个相同向量的话，结果为0\n",
    "# 而这个地方实际上我们希望如果相近的话，数值越高才对\n",
    "user_sim = 1 - pairwise_distances(train_mx, metric='cosine')\n",
    "item_sim = 1- pairwise_distances(train_mx.T, metric = 'cosine')"
   ]
  },
  {
   "cell_type": "markdown",
   "metadata": {},
   "source": [
    "下面这个函数有几个地方挺有意思的\n",
    "\n",
    "np.newaxis 可以用来把多开辟一个维度. 比如原来是(10,)可以扩展为(10, 1).\n",
    "\n",
    "np.dot 这个函数如果用于矩阵上的话，效果应该是这样的\n",
    "```\n",
    "a = [0,1,2\n",
    "3,4,5\n",
    "6,7,8]\n",
    "```\n",
    "如果a.dot(a)的话，那么第一行元素值应该是\n",
    "```\n",
    "0 * [0,1,2] + 1 * [3,4,5] + 2 * [6,7,8] = [15, 18, 21]\n",
    "```\n",
    "效果是加权求和\n",
    "\n",
    "**这个地方搞糊涂了. np.dot就是矩阵相乘. np.multiply点乘**\n",
    "\n",
    "下面函数里面b的这个地方。如果我们希望比如\n",
    "```\n",
    "a = [0,1,2\n",
    "3,4,5\n",
    "6,7,8]\n",
    "b = [3, 4, 5]\n",
    "```\n",
    "结果是\n",
    "```\n",
    "[0 / 3, 1 / 3, 2 / 3,\n",
    " 3 / 4, 4 / 4, 5 / 4,\n",
    " 6 / 5, 7 / 5, 8 / 5]\n",
    "```\n",
    "的话，那么可以使用这段代码. `b2 = np.array([b]); a / b2.T`"
   ]
  },
  {
   "cell_type": "code",
   "execution_count": 9,
   "metadata": {
    "collapsed": false
   },
   "outputs": [],
   "source": [
    "def user_pred(mx, sim):\n",
    "    ratings_mean = mx.mean(axis = 1)\n",
    "    ratings_mean2 = ratings_mean[:, np.newaxis]\n",
    "    print mx.shape, ratings_mean2.shape\n",
    "    ratings_diff = mx - ratings_mean2\n",
    "    a = sim.dot(ratings_diff)\n",
    "    b = np.abs(sim).sum(axis = 1)[:, np.newaxis]\n",
    "    b2 = np.array([np.abs(sim).sum(axis=1)]).T\n",
    "    print a.shape, b.shape, b2.shape\n",
    "    assert(np.all(b == b2))\n",
    "    base_pred = a / b\n",
    "    pred = base_pred + ratings_mean2\n",
    "    return pred"
   ]
  },
  {
   "cell_type": "code",
   "execution_count": 10,
   "metadata": {
    "collapsed": false
   },
   "outputs": [
    {
     "name": "stdout",
     "output_type": "stream",
     "text": [
      "(943, 1682) (943, 1)\n",
      "(943, 1682) (943, 1) (943, 1)\n"
     ]
    }
   ],
   "source": [
    "user_prediction = user_pred(train_mx, user_sim)"
   ]
  },
  {
   "cell_type": "code",
   "execution_count": 11,
   "metadata": {
    "collapsed": true
   },
   "outputs": [],
   "source": [
    "from sklearn.metrics import mean_squared_error\n",
    "from math import sqrt"
   ]
  },
  {
   "cell_type": "code",
   "execution_count": 12,
   "metadata": {
    "collapsed": false
   },
   "outputs": [
    {
     "data": {
      "text/plain": [
       "2.9581160194686782"
      ]
     },
     "execution_count": 12,
     "metadata": {},
     "output_type": "execute_result"
    }
   ],
   "source": [
    "# 从里面筛选出有ratings的部分. nonzeros()返回的是两个数组. index的row, col.\n",
    "# print test_mx.nonzero()\n",
    "result = user_prediction[test_mx.nonzero()]\n",
    "truth = test_mx[test_mx.nonzero()]\n",
    "np.sqrt(mean_squared_error(result, truth))"
   ]
  },
  {
   "cell_type": "code",
   "execution_count": 13,
   "metadata": {
    "collapsed": true
   },
   "outputs": [],
   "source": [
    "def item_pred(mx, sim):\n",
    "    a = mx.dot(sim)\n",
    "    b = np.array([np.abs(sim + 0.1).sum(axis=1)])\n",
    "    pred = a / b\n",
    "    return pred"
   ]
  },
  {
   "cell_type": "code",
   "execution_count": 14,
   "metadata": {
    "collapsed": false
   },
   "outputs": [
    {
     "data": {
      "text/plain": [
       "3.4266098398156979"
      ]
     },
     "execution_count": 14,
     "metadata": {},
     "output_type": "execute_result"
    }
   ],
   "source": [
    "item_prediction = item_pred(train_mx, item_sim)\n",
    "result = item_prediction[test_mx.nonzero()]\n",
    "truth = test_mx[test_mx.nonzero()]\n",
    "np.sqrt(mean_squared_error(result, truth))"
   ]
  },
  {
   "cell_type": "code",
   "execution_count": 15,
   "metadata": {
    "collapsed": true
   },
   "outputs": [],
   "source": [
    "sparsity=round(1.0-len(df)/float(n_users*n_items),3)"
   ]
  },
  {
   "cell_type": "code",
   "execution_count": 16,
   "metadata": {
    "collapsed": false
   },
   "outputs": [],
   "source": [
    "import scipy.sparse as sp\n",
    "# 注意svds在scipy里面\n",
    "from scipy.sparse.linalg import svds"
   ]
  },
  {
   "cell_type": "code",
   "execution_count": 17,
   "metadata": {
    "collapsed": true
   },
   "outputs": [],
   "source": [
    "u,s,v = svds(train_mx, k = 20) # 分解出20个latent factors.\n",
    "s_diag = np.diag(s)"
   ]
  },
  {
   "cell_type": "code",
   "execution_count": 18,
   "metadata": {
    "collapsed": false
   },
   "outputs": [
    {
     "data": {
      "text/plain": [
       "2.7144377344800183"
      ]
     },
     "execution_count": 18,
     "metadata": {},
     "output_type": "execute_result"
    }
   ],
   "source": [
    "x_pred = np.dot(np.dot(u, s_diag), v)\n",
    "result = x_pred[test_mx.nonzero()]\n",
    "np.sqrt(mean_squared_error(result, truth))"
   ]
  }
 ],
 "metadata": {
  "kernelspec": {
   "display_name": "Python 2",
   "language": "python",
   "name": "python2"
  },
  "language_info": {
   "codemirror_mode": {
    "name": "ipython",
    "version": 2
   },
   "file_extension": ".py",
   "mimetype": "text/x-python",
   "name": "python",
   "nbconvert_exporter": "python",
   "pygments_lexer": "ipython2",
   "version": "2.7.11"
  }
 },
 "nbformat": 4,
 "nbformat_minor": 0
}
