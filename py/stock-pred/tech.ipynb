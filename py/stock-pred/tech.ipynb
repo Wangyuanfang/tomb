{
 "metadata": {
  "name": ""
 },
 "nbformat": 3,
 "nbformat_minor": 0,
 "worksheets": [
  {
   "cells": [
    {
     "cell_type": "code",
     "collapsed": false,
     "input": [
      "import util\n",
      "import datetime as dt\n",
      "import numpy as np\n",
      "import pandas as pd\n",
      "%pylab\n",
      "%inline %matplotlib"
     ],
     "language": "python",
     "metadata": {},
     "outputs": [],
     "prompt_number": 29
    },
    {
     "cell_type": "code",
     "collapsed": false,
     "input": [
      "dt_from = dt.datetime(2014, 1,1)\n",
      "dt_to = dt.datetime.today()\n",
      "d_data = util.stock_data(dt_from, dt_to, ['AAPL', 'AMZN', 'GOOG', 'FB', 'MSFT', 'SPY', 'NFLX', 'BABA', 'JD'])"
     ],
     "language": "python",
     "metadata": {},
     "outputs": [],
     "prompt_number": 31
    },
    {
     "cell_type": "code",
     "collapsed": false,
     "input": [
      "close_price = util.close_price(d_data)\n",
      "df_price = util.returnize0(close_price)[-90:]"
     ],
     "language": "python",
     "metadata": {},
     "outputs": [],
     "prompt_number": 32
    },
    {
     "cell_type": "code",
     "collapsed": false,
     "input": [
      "plt.plot(df_price)\n",
      "plt.legend(df_price.columns)"
     ],
     "language": "python",
     "metadata": {},
     "outputs": [
      {
       "metadata": {},
       "output_type": "pyout",
       "prompt_number": 21,
       "text": [
        "<matplotlib.legend.Legend at 0x7fb38137d390>"
       ]
      }
     ],
     "prompt_number": 21
    },
    {
     "cell_type": "code",
     "collapsed": false,
     "input": [
      "df_mean = np.mean(df_price)\n",
      "df_std = np.std(df_price)\n",
      "sr = df_mean / df_std\n",
      "sr"
     ],
     "language": "python",
     "metadata": {},
     "outputs": [
      {
       "metadata": {},
       "output_type": "pyout",
       "prompt_number": 33,
       "text": [
        "GOOG    0.112291\n",
        "BABA    0.064193\n",
        "NFLX    0.033809\n",
        "SPY    -0.012601\n",
        "AAPL   -0.073019\n",
        "FB      0.045451\n",
        "JD      0.057631\n",
        "AMZN    0.085519\n",
        "MSFT    0.137981\n",
        "dtype: float64"
       ]
      }
     ],
     "prompt_number": 33
    }
   ],
   "metadata": {}
  }
 ]
}