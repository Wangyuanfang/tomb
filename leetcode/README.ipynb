{
 "cells": [
  {
   "cell_type": "markdown",
   "metadata": {},
   "source": [
    "获取题目列表。这个过程是半自动的：首先需要登录oj.leetcode.com, 将每一页的html输出粘贴到/tmp/note这个文件里面，之后运行下面函数就可以得到这页所有的题目。拿到题目列表后粘贴在problems.txt里面，为后面检查完成进度提供数据。"
   ]
  },
  {
   "cell_type": "code",
   "execution_count": 3,
   "metadata": {
    "collapsed": true
   },
   "outputs": [],
   "source": [
    "def get_problems():\n",
    "     from bs4 import BeautifulSoup\n",
    "     bs = BeautifulSoup(open('/tmp/note').read())\n",
    "     xs = bs.select('#question-app > div > div > div > table > tbody.reactable-data > tr > td > div > a')\n",
    "     xs2 = map(lambda x: x.attrs['href'][len('/problems/'):], xs)\n",
    "     return xs2"
   ]
  },
  {
   "cell_type": "markdown",
   "metadata": {},
   "source": [
    "下面这个函数用来检查当前完成的进度（返回未完成的题目）"
   ]
  },
  {
   "cell_type": "code",
   "execution_count": 6,
   "metadata": {
    "collapsed": true
   },
   "outputs": [],
   "source": [
    "def check_status():\n",
    "     import os\n",
    "     ps = filter(lambda x: x, map(lambda x: x.strip(),open('problems.txt').readlines()))\n",
    "     ps2 = filter(lambda x: not os.path.exists(x[1] + '.py'), enumerate(ps))\n",
    "     # print ps2[:10]\n",
    "     return ps2"
   ]
  },
  {
   "cell_type": "code",
   "execution_count": 8,
   "metadata": {
    "collapsed": false
   },
   "outputs": [
    {
     "data": {
      "text/plain": [
       "[(110, 'minimum-depth-of-binary-tree'),\n",
       " (111, 'path-sum'),\n",
       " (112, 'path-sum-ii'),\n",
       " (113, 'flatten-binary-tree-to-linked-list'),\n",
       " (114, 'distinct-subsequences'),\n",
       " (115, 'populating-next-right-pointers-in-each-node'),\n",
       " (116, 'populating-next-right-pointers-in-each-node-ii'),\n",
       " (117, 'pascals-triangle'),\n",
       " (118, 'pascals-triangle-ii'),\n",
       " (119, 'triangle'),\n",
       " (120, 'best-time-to-buy-and-sell-stock'),\n",
       " (121, 'best-time-to-buy-and-sell-stock-ii'),\n",
       " (122, 'best-time-to-buy-and-sell-stock-iii'),\n",
       " (123, 'binary-tree-maximum-path-sum'),\n",
       " (124, 'valid-palindrome'),\n",
       " (126, 'word-ladder'),\n",
       " (127, 'longest-consecutive-sequence'),\n",
       " (128, 'sum-root-to-leaf-numbers'),\n",
       " (129, 'surrounded-regions'),\n",
       " (130, 'palindrome-partitioning'),\n",
       " (131, 'palindrome-partitioning-ii'),\n",
       " (132, 'clone-graph'),\n",
       " (133, 'gas-station'),\n",
       " (134, 'candy'),\n",
       " (135, 'single-number'),\n",
       " (136, 'single-number-ii'),\n",
       " (137, 'copy-list-with-random-pointer'),\n",
       " (138, 'word-break'),\n",
       " (139, 'word-break-ii'),\n",
       " (140, 'linked-list-cycle'),\n",
       " (141, 'linked-list-cycle-ii'),\n",
       " (142, 'reorder-list'),\n",
       " (143, 'binary-tree-preorder-traversal'),\n",
       " (144, 'binary-tree-postorder-traversal'),\n",
       " (145, 'lru-cache'),\n",
       " (146, 'insertion-sort-list'),\n",
       " (147, 'sort-list'),\n",
       " (148, 'max-points-on-a-line'),\n",
       " (149, 'evaluate-reverse-polish-notation'),\n",
       " (150, 'reverse-words-in-a-string'),\n",
       " (151, 'maximum-product-subarray'),\n",
       " (152, 'find-minimum-in-rotated-sorted-array'),\n",
       " (153, 'find-minimum-in-rotated-sorted-array-ii'),\n",
       " (154, 'min-stack'),\n",
       " (155, 'binary-tree-upside-down'),\n",
       " (156, 'read-n-characters-given-read4'),\n",
       " (157, 'read-n-characters-given-read4-ii-call-multiple-times'),\n",
       " (158, 'longest-substring-with-at-most-two-distinct-characters'),\n",
       " (159, 'intersection-of-two-linked-lists'),\n",
       " (160, 'one-edit-distance'),\n",
       " (161, 'find-peak-element'),\n",
       " (162, 'missing-ranges'),\n",
       " (163, 'maximum-gap'),\n",
       " (164, 'compare-version-numbers'),\n",
       " (165, 'fraction-to-recurring-decimal'),\n",
       " (166, 'two-sum-ii-input-array-is-sorted'),\n",
       " (167, 'excel-sheet-column-title'),\n",
       " (168, 'majority-element'),\n",
       " (169, 'two-sum-iii-data-structure-design'),\n",
       " (170, 'excel-sheet-column-number'),\n",
       " (171, 'factorial-trailing-zeroes'),\n",
       " (172, 'binary-search-tree-iterator'),\n",
       " (173, 'dungeon-game'),\n",
       " (174, 'largest-number'),\n",
       " (175, 'reverse-words-in-a-string-ii'),\n",
       " (176, 'repeated-dna-sequences'),\n",
       " (177, 'best-time-to-buy-and-sell-stock-iv'),\n",
       " (178, 'rotate-array'),\n",
       " (179, 'reverse-bits'),\n",
       " (180, 'number-of-1-bits'),\n",
       " (181, 'house-robber'),\n",
       " (182, 'binary-tree-right-side-view'),\n",
       " (183, 'number-of-islands'),\n",
       " (184, 'bitwise-and-of-numbers-range'),\n",
       " (185, 'happy-number'),\n",
       " (186, 'remove-linked-list-elements'),\n",
       " (187, 'count-primes'),\n",
       " (188, 'isomorphic-strings'),\n",
       " (189, 'reverse-linked-list'),\n",
       " (190, 'course-schedule'),\n",
       " (191, 'implement-trie-prefix-tree'),\n",
       " (192, 'minimum-size-subarray-sum'),\n",
       " (193, 'course-schedule-ii'),\n",
       " (194, 'add-and-search-word-data-structure-design'),\n",
       " (195, 'word-search-ii'),\n",
       " (196, 'house-robber-ii'),\n",
       " (197, 'shortest-palindrome'),\n",
       " (198, 'kth-largest-element-in-an-array'),\n",
       " (199, 'combination-sum-iii')]"
      ]
     },
     "execution_count": 8,
     "metadata": {},
     "output_type": "execute_result"
    }
   ],
   "source": [
    "check_status()"
   ]
  }
 ],
 "metadata": {
  "kernelspec": {
   "display_name": "Python 2",
   "language": "python",
   "name": "python2"
  },
  "language_info": {
   "codemirror_mode": {
    "name": "ipython",
    "version": 2
   },
   "file_extension": ".py",
   "mimetype": "text/x-python",
   "name": "python",
   "nbconvert_exporter": "python",
   "pygments_lexer": "ipython2",
   "version": "2.7.10"
  }
 },
 "nbformat": 4,
 "nbformat_minor": 1
}
